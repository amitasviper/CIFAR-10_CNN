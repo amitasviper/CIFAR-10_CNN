{
 "cells": [
  {
   "cell_type": "code",
   "execution_count": 1,
   "metadata": {},
   "outputs": [
    {
     "data": {
      "application/javascript": [
       "IPython.OutputArea.prototype._should_scroll = function(lines) {\n",
       "    return false;\n",
       "}"
      ],
      "text/plain": [
       "<IPython.core.display.Javascript object>"
      ]
     },
     "metadata": {},
     "output_type": "display_data"
    }
   ],
   "source": [
    "%%javascript\n",
    "IPython.OutputArea.prototype._should_scroll = function(lines) {\n",
    "    return false;\n",
    "}"
   ]
  },
  {
   "cell_type": "code",
   "execution_count": 35,
   "metadata": {},
   "outputs": [],
   "source": [
    "import numpy as np\n",
    "import _pickle as cPickle\n",
    "import tensorflow as tf\n",
    "import time\n",
    "import os\n",
    "from urllib.request import urlretrieve\n",
    "import tarfile\n",
    "import zipfile\n",
    "import sys"
   ]
  },
  {
   "cell_type": "code",
   "execution_count": 3,
   "metadata": {},
   "outputs": [],
   "source": [
    "import matplotlib\n",
    "%matplotlib inline\n",
    "from matplotlib import pyplot as plt\n",
    "plt.rcParams['figure.figsize'] = (16, 9)\n",
    "plt.style.use('ggplot')"
   ]
  },
  {
   "cell_type": "code",
   "execution_count": 4,
   "metadata": {},
   "outputs": [],
   "source": [
    "def  plot_imagesplot_im(images, cls_true, cls_pred=None):\n",
    "    fig, axes = plt.subplots(3, 3)\n",
    "    fig.subplots_adjust(hspace=0.3, wspace=0.3)\n",
    "\n",
    "    for i, ax in enumerate(axes.flat):\n",
    "        ax.imshow(images[i])\n",
    "        if cls_pred is None:\n",
    "            xlabel = \"True: {0}\".format(cls_true[i])\n",
    "        else:\n",
    "            xlabel = \"True: {0}, Pred: {1}\".format(cls_true[i], cls_pred[i])\n",
    "        ax.set_xlabel(xlabel)\n",
    "        ax.set_xticks([])\n",
    "        ax.set_yticks([])\n",
    "    plt.show()"
   ]
  },
  {
   "cell_type": "code",
   "execution_count": null,
   "metadata": {},
   "outputs": [],
   "source": [
    "def getProgressBar(accuracy):\n",
    "    percentage = int(round((accuracy)*100))\n",
    "    progress_bar_size = 30\n",
    "    completed = int((progress_bar_size*int(percentage))/100)\n",
    "    progress_bar = '=' * completed + '>' + '-' * (progress_bar_size - completed)\n",
    "    return progress_bar, percentage"
   ]
  },
  {
   "cell_type": "code",
   "execution_count": 53,
   "metadata": {},
   "outputs": [],
   "source": [
    "def _print_download_progress(count, block_size, total_size):\n",
    "    pct_complete = float(count * block_size) / total_size\n",
    "    msg = \"\\r- Download progress: {0:.1%}\".format(pct_complete)\n",
    "    sys.stdout.write(msg)\n",
    "    sys.stdout.flush()\n",
    "\n",
    "\n",
    "def downloadDataSetIfNotPresent():\n",
    "    main_directory = os.path.join(os.getcwd(), 'data')\n",
    "    \n",
    "    cifar_10_directory = os.path.join(main_directory, 'cifar-10-batches-py')\n",
    "    if not os.path.exists(main_directory):\n",
    "        os.makedirs(main_directory)\n",
    "\n",
    "        url = \"http://www.cs.toronto.edu/~kriz/cifar-10-python.tar.gz\"\n",
    "        filename = url.split('/')[-1]\n",
    "        zip_cifar_10 = os.path.join(main_directory, filename)\n",
    "        file_path, _ = urlretrieve(url=url, filename=zip_cifar_10, reporthook=_print_download_progress)\n",
    "\n",
    "        print()\n",
    "        print(\"Download finished. Extracting files.\")\n",
    "        if file_path.endswith(\".zip\"):\n",
    "            zipfile.ZipFile(file=file_path, mode=\"r\").extractall(main_directory)\n",
    "        elif file_path.endswith((\".tar.gz\", \".tgz\")):\n",
    "            tarfile.open(name=file_path, mode=\"r:gz\").extractall(main_directory)\n",
    "        print(\"Done.\")\n",
    "        os.remove(zip_cifar_10)"
   ]
  },
  {
   "cell_type": "code",
   "execution_count": 45,
   "metadata": {},
   "outputs": [],
   "source": [
    "def unpickle(file_name):\n",
    "    with open(file_name, 'rb') as fo:\n",
    "        dict = cPickle.load(fo, encoding='latin1')\n",
    "    return dict"
   ]
  },
  {
   "cell_type": "code",
   "execution_count": 46,
   "metadata": {},
   "outputs": [],
   "source": [
    "def readCIFARData():\n",
    "    x = None\n",
    "    y = None\n",
    "    downloadDataSetIfNotPresent()\n",
    "    for batch_no in range(1,6,1):\n",
    "        data_dict = unpickle(\"data/cifar-10-batches-py/data_batch_%d\"%batch_no)\n",
    "        if batch_no == 1:\n",
    "            x = data_dict['data']\n",
    "            y = data_dict['labels']\n",
    "        else:\n",
    "            x = np.append(x, data_dict['data'], axis=0)\n",
    "            y = np.append(y, data_dict['labels'], axis=0)\n",
    "    mu = np.mean(x, axis=0)\n",
    "    mu = mu.reshape(1,-1)\n",
    "    sigma = np.std(x, axis=0)\n",
    "    sigma = sigma.reshape(1, -1)\n",
    "    x = x - mu\n",
    "    x = x / sigma\n",
    "    return x, y"
   ]
  },
  {
   "cell_type": "code",
   "execution_count": 47,
   "metadata": {},
   "outputs": [],
   "source": [
    "def weight_variable(shape):\n",
    "    print(shape)\n",
    "    initial = tf.truncated_normal(shape, stddev=0.1)\n",
    "    return tf.Variable(initial)\n",
    "\n",
    "def bias_variable(length):\n",
    "    initial = tf.constant(0.1, shape=[length], dtype=tf.float32)\n",
    "    return tf.Variable(initial)"
   ]
  },
  {
   "cell_type": "code",
   "execution_count": 48,
   "metadata": {},
   "outputs": [],
   "source": [
    "def createConvulationalLayer(input_data, channel_count, filter_size, filter_count, max_pooling=True):\n",
    "    shape = [filter_size, filter_size, channel_count, filter_count]\n",
    "    weights = weight_variable(shape=shape)\n",
    "    bias = bias_variable(length=filter_count)\n",
    "    layer = tf.nn.conv2d(input=input_data,\n",
    "                         filter=weights,\n",
    "                         strides=[1, 1, 1, 1],\n",
    "                         padding='SAME')\n",
    "    layer += bias\n",
    "    if max_pooling:\n",
    "        layer = tf.nn.max_pool(value=layer,\n",
    "                               ksize=[1, 2, 2, 1],\n",
    "                               strides=[1, 2, 2, 1],\n",
    "                               padding='SAME')\n",
    "        layer = tf.layers.dropout(layer, rate=0.25)\n",
    "    layer = tf.nn.relu(layer)\n",
    "    return layer, weights"
   ]
  },
  {
   "cell_type": "code",
   "execution_count": 49,
   "metadata": {},
   "outputs": [],
   "source": [
    "def createFlattenLayer(layer):\n",
    "    layer_shape = layer.get_shape()\n",
    "    # layer_shape is assumed to be in shape [number_of_images, image_height, image_width, channels]\n",
    "    # The channels will be the number of fiter_count in the previous layer\n",
    "    feature_count = layer_shape[1:4].num_elements()\n",
    "    layer_shape[1:4].num_elements()\n",
    "    flat_layer = tf.reshape(layer, [-1, feature_count])\n",
    "    return flat_layer, feature_count"
   ]
  },
  {
   "cell_type": "code",
   "execution_count": 50,
   "metadata": {},
   "outputs": [],
   "source": [
    "def createFullyConnectedLayer(input_data, input_feature_count, output_feature_count, apply_relu=False):\n",
    "    weights = weight_variable(shape=[input_feature_count, output_feature_count])\n",
    "    bias = bias_variable(length=output_feature_count)\n",
    "    layer = tf.matmul(input_data, weights) + bias\n",
    "    if apply_relu:\n",
    "        layer = tf.nn.relu(layer)\n",
    "    return layer"
   ]
  },
  {
   "cell_type": "code",
   "execution_count": 54,
   "metadata": {},
   "outputs": [
    {
     "name": "stdout",
     "output_type": "stream",
     "text": [
      "- Download progress: 100.0%\n",
      "Download finished. Extracting files.\n",
      "Done.\n"
     ]
    }
   ],
   "source": [
    "x_data, y_data_raw = readCIFARData()\n",
    "y_labels = unpickle(\"data/cifar-10-batches-py/batches.meta\")['label_names']"
   ]
  },
  {
   "cell_type": "code",
   "execution_count": null,
   "metadata": {},
   "outputs": [],
   "source": [
    "n_samples = x_data.shape[0]\n",
    "x_data = x_data.reshape([-1, image_depth, image_height, image_width])\n",
    "x_data = x_data.transpose([0, 2, 3, 1])\n",
    "\n",
    "category_count = len(y_labels)\n",
    "y_data_labels = [y_labels[x] for x in y_data_raw]"
   ]
  },
  {
   "cell_type": "code",
   "execution_count": null,
   "metadata": {},
   "outputs": [],
   "source": [
    "y_data = np.zeros((n_samples, category_count))\n",
    "for i in range(n_samples):\n",
    "    y_data[i][y_data_raw[i]] = 1"
   ]
  },
  {
   "cell_type": "code",
   "execution_count": null,
   "metadata": {},
   "outputs": [],
   "source": [
    "x_train = x_data[:-10000]\n",
    "y_train = y_data[:-10000]\n",
    "\n",
    "x_test = x_data[40000:]\n",
    "y_test = y_data[40000:]"
   ]
  },
  {
   "cell_type": "code",
   "execution_count": 12,
   "metadata": {},
   "outputs": [],
   "source": [
    "image_depth = 3\n",
    "image_height = 32\n",
    "image_width = 32\n",
    "\n",
    "image_shape = (image_height, image_width, image_depth)"
   ]
  },
  {
   "cell_type": "code",
   "execution_count": 14,
   "metadata": {},
   "outputs": [],
   "source": [
    "filter_size_2 = 2\n",
    "filter_size_3 = 3\n",
    "filter_size_5 = 5\n",
    "filter_count_32 = 32\n",
    "filter_count_64 = 64\n",
    "filter_count_128 = 128\n",
    "\n",
    "fully_conn_layer_1_out_size = 128\n",
    "fully_conn_layer_2_out_size = category_count"
   ]
  },
  {
   "cell_type": "code",
   "execution_count": 15,
   "metadata": {},
   "outputs": [
    {
     "name": "stderr",
     "output_type": "stream",
     "text": [
      "Clipping input data to the valid range for imshow with RGB data ([0..1] for floats or [0..255] for integers).\n",
      "Clipping input data to the valid range for imshow with RGB data ([0..1] for floats or [0..255] for integers).\n",
      "Clipping input data to the valid range for imshow with RGB data ([0..1] for floats or [0..255] for integers).\n",
      "Clipping input data to the valid range for imshow with RGB data ([0..1] for floats or [0..255] for integers).\n",
      "Clipping input data to the valid range for imshow with RGB data ([0..1] for floats or [0..255] for integers).\n",
      "Clipping input data to the valid range for imshow with RGB data ([0..1] for floats or [0..255] for integers).\n",
      "Clipping input data to the valid range for imshow with RGB data ([0..1] for floats or [0..255] for integers).\n",
      "Clipping input data to the valid range for imshow with RGB data ([0..1] for floats or [0..255] for integers).\n",
      "Clipping input data to the valid range for imshow with RGB data ([0..1] for floats or [0..255] for integers).\n"
     ]
    },
    {
     "name": "stdout",
     "output_type": "stream",
     "text": [
      "(10, 32, 32, 3)\n"
     ]
    },
    {
     "data": {
      "image/png": "[encoded data removed]",
      "text/plain": [
       "<Figure size 432x288 with 9 Axes>"
      ]
     },
     "metadata": {},
     "output_type": "display_data"
    }
   ],
   "source": [
    "print(x_data[:10].shape)\n",
    "plot_imagesplot_im(x_data[:10], y_data_labels[:10])"
   ]
  },
  {
   "cell_type": "code",
   "execution_count": 18,
   "metadata": {},
   "outputs": [],
   "source": [
    "x = tf.placeholder(tf.float32, shape=[None, image_height, image_width, image_depth])\n",
    "y_actual = tf.placeholder(tf.float32, shape=(None, category_count))"
   ]
  },
  {
   "cell_type": "code",
   "execution_count": 19,
   "metadata": {},
   "outputs": [
    {
     "name": "stdout",
     "output_type": "stream",
     "text": [
      "[3, 3, 3, 32]\n"
     ]
    }
   ],
   "source": [
    "conv_layer_1, conv_weights_1 = createConvulationalLayer(input_data=x,\n",
    "                   channel_count=image_depth,\n",
    "                   filter_size=filter_size_3,\n",
    "                   filter_count=filter_count_32,\n",
    "                   max_pooling=False)"
   ]
  },
  {
   "cell_type": "code",
   "execution_count": 20,
   "metadata": {},
   "outputs": [
    {
     "name": "stdout",
     "output_type": "stream",
     "text": [
      "[3, 3, 32, 64]\n"
     ]
    }
   ],
   "source": [
    "conv_layer_2, conv_weights_2 = createConvulationalLayer(input_data=conv_layer_1,\n",
    "                   channel_count=filter_count_32,\n",
    "                   filter_size=filter_size_3,\n",
    "                   filter_count=filter_count_64,\n",
    "                   max_pooling=True)"
   ]
  },
  {
   "cell_type": "code",
   "execution_count": 21,
   "metadata": {},
   "outputs": [
    {
     "name": "stdout",
     "output_type": "stream",
     "text": [
      "[3, 3, 64, 128]\n"
     ]
    }
   ],
   "source": [
    "conv_layer_3, conv_weights_3 = createConvulationalLayer(input_data=conv_layer_2,\n",
    "                   channel_count=filter_count_64,\n",
    "                   filter_size=filter_size_3,\n",
    "                   filter_count=filter_count_128,\n",
    "                   max_pooling=False)"
   ]
  },
  {
   "cell_type": "code",
   "execution_count": 22,
   "metadata": {},
   "outputs": [
    {
     "name": "stdout",
     "output_type": "stream",
     "text": [
      "[3, 3, 128, 128]\n"
     ]
    }
   ],
   "source": [
    "conv_layer_4, conv_weights_4 = createConvulationalLayer(input_data=conv_layer_3,\n",
    "                   channel_count=filter_count_128,\n",
    "                   filter_size=filter_size_3,\n",
    "                   filter_count=filter_count_128,\n",
    "                   max_pooling=True)"
   ]
  },
  {
   "cell_type": "code",
   "execution_count": 23,
   "metadata": {},
   "outputs": [
    {
     "name": "stdout",
     "output_type": "stream",
     "text": [
      "[3, 3, 128, 128]\n"
     ]
    }
   ],
   "source": [
    "conv_layer_5, conv_weights_5 = createConvulationalLayer(input_data=conv_layer_4,\n",
    "                   channel_count=filter_count_128,\n",
    "                   filter_size=filter_size_3,\n",
    "                   filter_count=filter_count_128,\n",
    "                   max_pooling=False)"
   ]
  },
  {
   "cell_type": "code",
   "execution_count": 24,
   "metadata": {},
   "outputs": [],
   "source": [
    "flat_layer, num_features = createFlattenLayer(conv_layer_5)"
   ]
  },
  {
   "cell_type": "code",
   "execution_count": 25,
   "metadata": {},
   "outputs": [
    {
     "name": "stdout",
     "output_type": "stream",
     "text": [
      "[8192, 128]\n"
     ]
    }
   ],
   "source": [
    "fully_con_layer_1 = createFullyConnectedLayer(input_data=flat_layer,\n",
    "                         input_feature_count=num_features,\n",
    "                         output_feature_count=fully_conn_layer_1_out_size,\n",
    "                         apply_relu=True)"
   ]
  },
  {
   "cell_type": "code",
   "execution_count": 26,
   "metadata": {},
   "outputs": [
    {
     "name": "stdout",
     "output_type": "stream",
     "text": [
      "[128, 128]\n"
     ]
    }
   ],
   "source": [
    "fully_con_layer_2 = createFullyConnectedLayer(input_data=fully_con_layer_1,\n",
    "                         input_feature_count=fully_conn_layer_1_out_size,\n",
    "                         output_feature_count=fully_conn_layer_1_out_size,\n",
    "                         apply_relu=True)"
   ]
  },
  {
   "cell_type": "code",
   "execution_count": 27,
   "metadata": {},
   "outputs": [
    {
     "name": "stdout",
     "output_type": "stream",
     "text": [
      "[128, 10]\n"
     ]
    }
   ],
   "source": [
    "fully_con_layer_3 = createFullyConnectedLayer(input_data=fully_con_layer_2,\n",
    "                         input_feature_count=fully_conn_layer_1_out_size,\n",
    "                         output_feature_count=fully_conn_layer_2_out_size,\n",
    "                         apply_relu=False)"
   ]
  },
  {
   "cell_type": "code",
   "execution_count": 28,
   "metadata": {},
   "outputs": [],
   "source": [
    "y_predicted = tf.nn.softmax(fully_con_layer_3)\n",
    "cross_entropy = tf.reduce_mean(-tf.reduce_sum(y_actual * tf.log(y_predicted), reduction_indices=[1]))\n",
    "optimizer = tf.train.AdamOptimizer(1e-4).minimize(cross_entropy)"
   ]
  },
  {
   "cell_type": "code",
   "execution_count": 29,
   "metadata": {},
   "outputs": [],
   "source": [
    "is_correct = tf.equal(tf.argmax(y_predicted, 1), tf.argmax(y_actual, 1))\n",
    "accuracy = tf.reduce_mean(tf.cast(is_correct, tf.float32))"
   ]
  },
  {
   "cell_type": "code",
   "execution_count": 34,
   "metadata": {},
   "outputs": [
    {
     "name": "stdout",
     "output_type": "stream",
     "text": [
      "Total batches are  312\n",
      "Iteration [0]\n",
      "Iteration:  0 - [===>---------------------------]  12% -Train Acc | [==>----------------------------]   8% -Test Acc\n",
      "Iteration:  0 - [===>---------------------------]  12% -Train Acc | [==>----------------------------]   9% -Test Acc\n",
      "Iteration:  0 - [===>---------------------------]  13% -Train Acc | [===>---------------------------]  13% -Test Acc\n",
      "Iteration:  0 - [===>---------------------------]  13% -Train Acc | [====>--------------------------]  14% -Test Acc\n",
      "Iteration:  0 - [====>--------------------------]  15% -Train Acc | [====>--------------------------]  14% -Test Acc\n",
      "Iteration:  0 - [====>--------------------------]  15% -Train Acc | [====>--------------------------]  15% -Test Acc\n",
      "Iteration:  0 - [=====>-------------------------]  17% -Train Acc | [====>--------------------------]  15% -Test Acc\n",
      "Iteration:  0 - [=====>-------------------------]  17% -Train Acc | [====>--------------------------]  15% -Test Acc\n",
      "Iteration:  0 - [=====>-------------------------]  17% -Train Acc | [=====>-------------------------]  17% -Test Acc\n",
      "Iteration:  0 - [=====>-------------------------]  19% -Train Acc | [=====>-------------------------]  17% -Test Acc\n",
      "Iteration:  0 - [======>------------------------]  20% -Train Acc | [=====>-------------------------]  17% -Test Acc\n",
      "Iteration:  0 - [======>------------------------]  20% -Train Acc | [=====>-------------------------]  18% -Test Acc\n",
      "Iteration:  0 - [======>------------------------]  20% -Train Acc | [======>------------------------]  20% -Test Acc\n",
      "Iteration:  0 - [======>------------------------]  20% -Train Acc | [======>------------------------]  20% -Test Acc\n",
      "Iteration:  0 - [======>------------------------]  23% -Train Acc | [======>------------------------]  20% -Test Acc\n",
      "Iteration:  0 - [======>------------------------]  23% -Train Acc | [======>------------------------]  22% -Test Acc\n",
      "Iteration:  0 - [======>------------------------]  23% -Train Acc | [======>------------------------]  22% -Test Acc\n",
      "Iteration:  0 - [=======>-----------------------]  25% -Train Acc | [======>------------------------]  22% -Test Acc\n",
      "Iteration:  0 - [=======>-----------------------]  25% -Train Acc | [======>------------------------]  23% -Test Acc\n",
      "Iteration:  0 - [========>----------------------]  27% -Train Acc | [======>------------------------]  23% -Test Acc\n",
      "Iteration:  0 - [========>----------------------]  27% -Train Acc | [========>----------------------]  27% -Test Acc\n",
      "Iteration:  0 - [========>----------------------]  27% -Train Acc | [========>----------------------]  28% -Test Acc\n",
      "Iteration:  0 - [=========>---------------------]  33% -Train Acc | [========>----------------------]  28% -Test Acc\n",
      "Iteration:  0 - [=========>---------------------]  33% -Train Acc | [=========>---------------------]  31% -Test Acc\n",
      "Iteration:  0 - [=========>---------------------]  33% -Train Acc | [=========>---------------------]  31% -Test Acc\n",
      "Iteration:  0 - [=========>---------------------]  33% -Train Acc | [=========>---------------------]  32% -Test Acc\n",
      "Iteration:  0 - [==========>--------------------]  35% -Train Acc | [=========>---------------------]  32% -Test Acc\n",
      "Iteration:  0 - [==========>--------------------]  36% -Train Acc | [=========>---------------------]  32% -Test Acc\n",
      "Iteration:  0 - [===========>-------------------]  38% -Train Acc | [=========>---------------------]  32% -Test Acc\n",
      "Iteration:  0 - [===========>-------------------]  38% -Train Acc | [=========>---------------------]  33% -Test Acc\n",
      "Iteration:  0 - [===========>-------------------]  38% -Train Acc | [==========>--------------------]  34% -Test Acc\n",
      "Iteration:  0 - [===========>-------------------]  38% -Train Acc | [===========>-------------------]  37% -Test Acc\n",
      "Iteration:  0 - [===========>-------------------]  39% -Train Acc | [===========>-------------------]  37% -Test Acc\n",
      "Iteration:  0 - [===========>-------------------]  39% -Train Acc | [===========>-------------------]  38% -Test Acc\n",
      "Iteration:  0 - [============>------------------]  41% -Train Acc | [===========>-------------------]  38% -Test Acc\n",
      "Iteration:  0 - [============>------------------]  41% -Train Acc | [===========>-------------------]  39% -Test Acc\n",
      "Iteration:  0 - [============>------------------]  41% -Train Acc | [===========>-------------------]  39% -Test Acc\n",
      "Iteration:  0 - [============>------------------]  41% -Train Acc | [============>------------------]  41% -Test Acc\n",
      "Iteration [1]\n",
      "Iteration:  1 - [=============>-----------------]  45% -Train Acc | [============>------------------]  41% -Test Acc\n",
      "Iteration:  1 - [=============>-----------------]  45% -Train Acc | [=============>-----------------]  44% -Test Acc\n",
      "Iteration:  1 - [=============>-----------------]  45% -Train Acc | [=============>-----------------]  44% -Test Acc\n",
      "Iteration:  1 - [==============>----------------]  47% -Train Acc | [=============>-----------------]  44% -Test Acc\n",
      "Iteration:  1 - [==============>----------------]  47% -Train Acc | [=============>-----------------]  46% -Test Acc\n",
      "Iteration:  1 - [==============>----------------]  48% -Train Acc | [=============>-----------------]  46% -Test Acc\n",
      "Iteration:  1 - [==============>----------------]  48% -Train Acc | [==============>----------------]  49% -Test Acc\n",
      "Iteration:  1 - [===============>---------------]  50% -Train Acc | [==============>----------------]  49% -Test Acc\n",
      "Iteration:  1 - [===============>---------------]  50% -Train Acc | [===============>---------------]  50% -Test Acc\n",
      "Iteration:  1 - [===============>---------------]  51% -Train Acc | [===============>---------------]  50% -Test Acc\n",
      "Iteration:  1 - [===============>---------------]  52% -Train Acc | [===============>---------------]  50% -Test Acc\n",
      "Iteration:  1 - [===============>---------------]  53% -Train Acc | [===============>---------------]  50% -Test Acc\n",
      "Iteration:  1 - [===============>---------------]  53% -Train Acc | [===============>---------------]  52% -Test Acc\n",
      "Iteration [2]\n",
      "Iteration:  2 - [================>--------------]  55% -Train Acc | [===============>---------------]  52% -Test Acc\n",
      "Iteration:  2 - [=================>-------------]  59% -Train Acc | [===============>---------------]  52% -Test Acc\n",
      "Iteration:  2 - [=================>-------------]  59% -Train Acc | [================>--------------]  54% -Test Acc\n",
      "Iteration:  2 - [=================>-------------]  59% -Train Acc | [================>--------------]  55% -Test Acc\n",
      "Iteration:  2 - [=================>-------------]  59% -Train Acc | [================>--------------]  56% -Test Acc\n",
      "Iteration:  2 - [=================>-------------]  59% -Train Acc | [=================>-------------]  57% -Test Acc\n",
      "Iteration:  2 - [=================>-------------]  59% -Train Acc | [=================>-------------]  57% -Test Acc\n",
      "Iteration:  2 - [=================>-------------]  59% -Train Acc | [=================>-------------]  59% -Test Acc\n",
      "Iteration [3]\n",
      "Iteration:  3 - [==================>------------]  60% -Train Acc | [=================>-------------]  59% -Test Acc\n",
      "Iteration:  3 - [==================>------------]  60% -Train Acc | [===================>-----------]  66% -Test Acc\n",
      "Iteration:  3 - [==================>------------]  61% -Train Acc | [===================>-----------]  66% -Test Acc\n",
      "Iteration:  3 - [==================>------------]  63% -Train Acc | [===================>-----------]  66% -Test Acc\n",
      "Iteration [4]\n",
      "Iteration:  4 - [===================>-----------]  65% -Train Acc | [===================>-----------]  66% -Test Acc\n",
      "Iteration:  4 - [===================>-----------]  66% -Train Acc | [===================>-----------]  66% -Test Acc\n",
      "Iteration:  4 - [====================>----------]  67% -Train Acc | [===================>-----------]  66% -Test Acc\n",
      "Iteration [5]\n",
      "Iteration:  5 - [=====================>---------]  70% -Train Acc | [===================>-----------]  66% -Test Acc\n",
      "Iteration:  5 - [=====================>---------]  70% -Train Acc | [====================>----------]  67% -Test Acc\n",
      "Iteration:  5 - [=====================>---------]  71% -Train Acc | [====================>----------]  67% -Test Acc\n",
      "Iteration [6]\n"
     ]
    },
    {
     "name": "stdout",
     "output_type": "stream",
     "text": [
      "Iteration:  6 - [=====================>---------]  71% -Train Acc | [=====================>---------]  72% -Test Acc\n",
      "Iteration:  6 - [=====================>---------]  73% -Train Acc | [=====================>---------]  72% -Test Acc\n",
      "Iteration [7]\n",
      "Iteration:  7 - [======================>--------]  74% -Train Acc | [=====================>---------]  72% -Test Acc\n",
      "Iteration:  7 - [======================>--------]  75% -Train Acc | [=====================>---------]  72% -Test Acc\n",
      "Iteration:  7 - [======================>--------]  76% -Train Acc | [=====================>---------]  72% -Test Acc\n",
      "Iteration:  7 - [======================>--------]  76% -Train Acc | [=====================>---------]  73% -Test Acc\n",
      "Iteration [8]\n",
      "Iteration:  8 - [======================>--------]  76% -Train Acc | [======================>--------]  75% -Test Acc\n",
      "Iteration:  8 - [=======================>-------]  77% -Train Acc | [======================>--------]  75% -Test Acc\n",
      "Iteration:  8 - [========================>------]  80% -Train Acc | [======================>--------]  75% -Test Acc\n",
      "Iteration [9]\n",
      "Iteration:  9 - [========================>------]  80% -Train Acc | [=======================>-------]  78% -Test Acc\n",
      "Iteration [10]\n",
      "Iteration: 10 - [========================>------]  81% -Train Acc | [=======================>-------]  78% -Test Acc\n",
      "Iteration [11]\n",
      "Iteration: 11 - [========================>------]  81% -Train Acc | [=======================>-------]  79% -Test Acc\n",
      "Iteration: 11 - [========================>------]  83% -Train Acc | [=======================>-------]  79% -Test Acc\n",
      "Iteration [12]\n",
      "Iteration: 12 - [=========================>-----]  85% -Train Acc | [=======================>-------]  79% -Test Acc\n",
      "Iteration: 12 - [=========================>-----]  85% -Train Acc | [========================>------]  81% -Test Acc\n",
      "Iteration: 12 - [=========================>-----]  86% -Train Acc | [========================>------]  81% -Test Acc\n",
      "Iteration [13]\n",
      "Iteration: 13 - [=========================>-----]  86% -Train Acc | [=========================>-----]  85% -Test Acc\n",
      "Iteration: 13 - [==========================>----]  87% -Train Acc | [=========================>-----]  85% -Test Acc\n",
      "Iteration [14]\n",
      "Iteration: 14 - [===========================>---]  90% -Train Acc | [=========================>-----]  85% -Test Acc\n",
      "Iteration [15]\n",
      "Iteration: 15 - [===========================>---]  91% -Train Acc | [=========================>-----]  85% -Test Acc\n",
      "Iteration [16]\n",
      "Iteration: 16 - [===========================>---]  91% -Train Acc | [=========================>-----]  85% -Test Acc\n",
      "Iteration: 16 - [===========================>---]  92% -Train Acc | [=========================>-----]  85% -Test Acc\n",
      "Iteration [17]\n",
      "Iteration [18]\n",
      "Iteration: 18 - [===========================>---]  92% -Train Acc | [==========================>----]  87% -Test Acc\n",
      "Iteration: 18 - [===========================>---]  92% -Train Acc | [==========================>----]  88% -Test Acc\n",
      "Iteration: 18 - [===========================>---]  93% -Train Acc | [==========================>----]  88% -Test Acc\n",
      "Iteration: 18 - [============================>--]  95% -Train Acc | [==========================>----]  88% -Test Acc\n",
      "Iteration [19]\n",
      "Iteration: 19 - [============================>--]  95% -Train Acc | [==========================>----]  89% -Test Acc\n",
      "Iteration: 19 - [============================>--]  95% -Train Acc | [==========================>----]  89% -Test Acc\n",
      "Iteration [20]\n",
      "Iteration: 20 - [============================>--]  96% -Train Acc | [==========================>----]  89% -Test Acc\n",
      "Iteration: 20 - [=============================>-]  97% -Train Acc | [==========================>----]  89% -Test Acc\n",
      "Iteration [21]\n",
      "Iteration: 21 - [=============================>-]  97% -Train Acc | [==========================>----]  89% -Test Acc\n",
      "Iteration: 21 - [=============================>-]  97% -Train Acc | [===========================>---]  90% -Test Acc\n",
      "Iteration [22]\n",
      "Iteration: 22 - [=============================>-]  98% -Train Acc | [===========================>---]  90% -Test Acc\n",
      "Iteration [23]\n",
      "Iteration: 23 - [=============================>-]  98% -Train Acc | [===========================>---]  91% -Test Acc\n",
      "Iteration [24]\n",
      "Iteration: 24 - [==============================>] 100% -Train Acc | [===========================>---]  91% -Test Acc\n",
      "Training Done\n"
     ]
    }
   ],
   "source": [
    "epochs = 100\n",
    "\n",
    "session = tf.Session(config=tf.ConfigProto(log_device_placement=True))\n",
    "\n",
    "init = tf.global_variables_initializer()\n",
    "session.run(init)\n",
    "\n",
    "start_time = time.time()\n",
    "\n",
    "batch_size = 128\n",
    "total_batches = int(x_train.shape[0] / batch_size)\n",
    "print(\"Total batches are \", total_batches)\n",
    "highest_test_accuracy = 0\n",
    "highest_train_accuracy = 0\n",
    "train_ac, test_ac = 0, 0\n",
    "training_done = False\n",
    "for i in range(epochs):\n",
    "    if training_done:\n",
    "        break\n",
    "    print(\"Iteration [%d]\"%i)\n",
    "    for batch_no in range(total_batches):\n",
    "        start_index = batch_no * batch_size\n",
    "        end_index = (batch_no + 1) * batch_size\n",
    "        batch_X = x_train[start_index:end_index]\n",
    "        batch_Y  = y_train[start_index:end_index]\n",
    "\n",
    "        train_data = {x: batch_X, y_actual: batch_Y}\n",
    "        \n",
    "        indices = np.random.choice(10000, 256)\n",
    "        test_batch_X = x_train[indices]\n",
    "        test_batch_Y  = y_train[indices]\n",
    "        test_data = {x: test_batch_X, y_actual: test_batch_Y}\n",
    "\n",
    "        # Training Step\n",
    "        session.run(optimizer, feed_dict=train_data)\n",
    "        \n",
    "        end_time = time.time()\n",
    "        # Calculate accuracy of the model on the training data in the current epoch\n",
    "        train_ac = session.run(accuracy, feed_dict=train_data)\n",
    "        test_ac = session.run(accuracy, feed_dict=test_data)\n",
    "        \n",
    "        if train_ac > highest_train_accuracy or test_ac > highest_test_accuracy:\n",
    "            highest_train_accuracy = max(train_ac, highest_train_accuracy)\n",
    "            highest_test_accuracy = max(test_ac, highest_test_accuracy)\n",
    "            \n",
    "            train_p_bar, train_percent = getProgressBar(highest_train_accuracy)\n",
    "            test_p_bar, test_percent = getProgressBar(highest_test_accuracy)\n",
    "\n",
    "            msg = \"Iteration:{:>3} - [{}] {:>3}% -Train Acc | [{}] {:>3}% -Test Acc\"\n",
    "            print(msg.format(i, train_p_bar, train_percent, test_p_bar, test_percent))\n",
    "            if highest_train_accuracy == 1.0:\n",
    "                training_done = True\n",
    "                break\n",
    "            \n",
    "    start_time = end_time\n",
    "print(\"Training Done\")"
   ]
  },
  {
   "cell_type": "code",
   "execution_count": 58,
   "metadata": {},
   "outputs": [
    {
     "name": "stdout",
     "output_type": "stream",
     "text": [
      "Model saved in path: /home/amit/notebooks/model/model.ckpt\n"
     ]
    }
   ],
   "source": [
    "saver = tf.train.Saver()\n",
    "model = os.path.join(os.getcwd(), 'model')\n",
    "if not os.path.exists(model):\n",
    "    os.makedirs(model)\n",
    "save_path = saver.save(session, os.path.join(model, \"model.ckpt\"))\n",
    "print(\"Model saved in path: %s\" % save_path)"
   ]
  },
  {
   "cell_type": "code",
   "execution_count": null,
   "metadata": {},
   "outputs": [],
   "source": []
  }
 ],
 "metadata": {
  "kernelspec": {
   "display_name": "Python 3",
   "language": "python",
   "name": "python3"
  },
  "language_info": {
   "codemirror_mode": {
    "name": "ipython",
    "version": 3
   },
   "file_extension": ".py",
   "mimetype": "text/x-python",
   "name": "python",
   "nbconvert_exporter": "python",
   "pygments_lexer": "ipython3",
   "version": "3.6.5"
  }
 },
 "nbformat": 4,
 "nbformat_minor": 2
}
